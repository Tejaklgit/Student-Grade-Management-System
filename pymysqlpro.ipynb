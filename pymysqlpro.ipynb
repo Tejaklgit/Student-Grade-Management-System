{
 "cells": [
  {
   "cell_type": "code",
   "execution_count": 1,
   "id": "cf34f390-14b2-41e4-a5c6-77be9e38cde7",
   "metadata": {},
   "outputs": [
    {
     "name": "stdout",
     "output_type": "stream",
     "text": [
      "Requirement already satisfied: pymysql in c:\\users\\k prasad\\anaconda4\\lib\\site-packages (1.1.1)Note: you may need to restart the kernel to use updated packages.\n",
      "\n"
     ]
    }
   ],
   "source": [
    "pip install pymysql"
   ]
  },
  {
   "cell_type": "code",
   "execution_count": null,
   "id": "544e49c9-b38b-4b22-89a5-f7875d191462",
   "metadata": {},
   "outputs": [
    {
     "name": "stdout",
     "output_type": "stream",
     "text": [
      "\n",
      "🎓 MENU:\n",
      "1. Add Student\n",
      "2. Add/Update Grade\n",
      "3. Calculate Average Grade\n",
      "4. Display All Students\n",
      "5. Exit\n"
     ]
    }
   ],
   "source": [
    "import pymysql\n",
    "\n",
    "connection = pymysql.connect(\n",
    "    host='localhost',\n",
    "    port=3307,\n",
    "    user='root',\n",
    "    password='Teja@23',\n",
    "    database='CollegeDB'\n",
    ")\n",
    "\n",
    "cursor = connection.cursor()\n",
    "\n",
    "StudentDB = {}\n",
    "\n",
    "def add_student(name):\n",
    "    if name in StudentDB:\n",
    "        print(f\"{name} already exists.\")\n",
    "    else:\n",
    "        StudentDB[name] = {}\n",
    "        print(f\"{name} has been added.\")\n",
    "\n",
    "def add_grade(name, subject, grade):\n",
    "    if name not in StudentDB:\n",
    "        print(\"Student not found.\")\n",
    "        return\n",
    "    StudentDB[name][subject] = grade\n",
    "    print(f\"Grade added/updated for {name} in {subject}.\")\n",
    "\n",
    "    try:\n",
    "        cursor.execute(\"\"\"\n",
    "            INSERT INTO Students (SName, Subjects, Grades)\n",
    "            VALUES (%s, %s, %s)\n",
    "        \"\"\", (name, subject, grade))\n",
    "        connection.commit()\n",
    "    except Exception as e:\n",
    "        print(\"MySQL Error:\", e)\n",
    "\n",
    "def calculate_average(name):\n",
    "    if name not in StudentDB:\n",
    "        print(\"Student not found.\")\n",
    "        return\n",
    "    if not StudentDB[name]:\n",
    "        print(\"No grades available.\")\n",
    "        return\n",
    "\n",
    "    grades = list(StudentDB[name].values())\n",
    "    avg = sum(grades) / len(grades)\n",
    "    print(f\"Average grade for {name} is {avg:.2f}\")\n",
    "\n",
    "def display_all():\n",
    "    cursor.execute(\"SELECT * FROM Students\")\n",
    "    rows = cursor.fetchall()\n",
    "\n",
    "    if not rows:\n",
    "        print(\"No student records found.\")\n",
    "        return\n",
    "\n",
    "    print(\"\\n All Students (From MySQL):\")\n",
    "    for row in rows:\n",
    "        print(f\"Student: {row[0]}, Subject: {row[1]}, Grade: {row[2]}\")\n",
    "\n",
    "def menu():\n",
    "    while True:\n",
    "        print(\"\\n🎓 MENU:\")\n",
    "        print(\"1. Add Student\")\n",
    "        print(\"2. Add/Update Grade\")\n",
    "        print(\"3. Calculate Average Grade\")\n",
    "        print(\"4. Display All Students\")\n",
    "        print(\"5. Exit\")\n",
    "\n",
    "        choice = input(\"Enter your choice: \")\n",
    "\n",
    "        if choice == '1':\n",
    "            name = input(\"Enter student name: \")\n",
    "            add_student(name)\n",
    "\n",
    "        elif choice == '2':\n",
    "            name = input(\"Enter student name: \")\n",
    "            subject = input(\"Enter subject: \")\n",
    "            try:\n",
    "                grade = float(input(\"Enter grade: \"))\n",
    "                add_grade(name, subject, grade)\n",
    "            except ValueError:\n",
    "                print(\"Grade must be a number.\")\n",
    "\n",
    "        elif choice == '3':\n",
    "            name = input(\"Enter student name: \")\n",
    "            calculate_average(name)\n",
    "\n",
    "        elif choice == '4':\n",
    "            display_all()\n",
    "\n",
    "        elif choice == '5':\n",
    "            print(\"✅ Exiting program.\")\n",
    "            break\n",
    "\n",
    "        else:\n",
    "            print(\" Invalid choice. Try again.\")\n",
    "\n",
    "\n",
    "menu()\n",
    "\n",
    "cursor.close()\n",
    "connection.close()"
   ]
  },
  {
   "cell_type": "code",
   "execution_count": null,
   "id": "3556bdde-3d32-4946-825a-3f09583be976",
   "metadata": {},
   "outputs": [],
   "source": []
  }
 ],
 "metadata": {
  "kernelspec": {
   "display_name": "Python 3 (ipykernel)",
   "language": "python",
   "name": "python3"
  },
  "language_info": {
   "codemirror_mode": {
    "name": "ipython",
    "version": 3
   },
   "file_extension": ".py",
   "mimetype": "text/x-python",
   "name": "python",
   "nbconvert_exporter": "python",
   "pygments_lexer": "ipython3",
   "version": "3.12.7"
  }
 },
 "nbformat": 4,
 "nbformat_minor": 5
}
